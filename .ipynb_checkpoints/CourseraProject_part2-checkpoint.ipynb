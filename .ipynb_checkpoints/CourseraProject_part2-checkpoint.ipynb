{
 "cells": [
  {
   "cell_type": "markdown",
   "metadata": {
    "colab_type": "text",
    "id": "9Lx97ibL2GZC"
   },
   "source": [
    "# Model Building using XGBoostRegresor"
   ]
  },
  {
   "cell_type": "code",
   "execution_count": null,
   "metadata": {
    "colab": {},
    "colab_type": "code",
    "id": "Dr5FX1Gh2UzC"
   },
   "outputs": [],
   "source": [
    "#import the necessary libraries\n",
    "import pandas as pd\n",
    "import numpy as np\n",
    "import xgboost as xgb\n",
    "from xgboost import XGBRegressor\n",
    "import pickle"
   ]
  },
  {
   "cell_type": "code",
   "execution_count": 2,
   "metadata": {
    "colab": {
     "base_uri": "https://localhost:8080/",
     "height": 35
    },
    "colab_type": "code",
    "id": "KojYTjLp2gdL",
    "outputId": "ec23e50a-7c1e-45c8-bb33-fa7f195cac7d"
   },
   "outputs": [
    {
     "name": "stdout",
     "output_type": "stream",
     "text": [
      "Drive already mounted at /content/drive; to attempt to forcibly remount, call drive.mount(\"/content/drive\", force_remount=True).\n"
     ]
    }
   ],
   "source": [
    "from google.colab import drive\n",
    "drive.mount('/content/drive')"
   ]
  },
  {
   "cell_type": "code",
   "execution_count": null,
   "metadata": {
    "colab": {},
    "colab_type": "code",
    "id": "CJ5qxKhw2ny0"
   },
   "outputs": [],
   "source": [
    "# read the training, validation and test datasets\n",
    "test = pd.read_csv('/content/drive/My Drive/CourseraProject/data/test.csv')\n",
    "X_train = pd.read_csv('/content/drive/My Drive/CourseraProject/data/X_train.csv')\n",
    "X_cv = pd.read_csv('/content/drive/My Drive/CourseraProject/data/X_cv.csv')\n",
    "X_test = pd.read_csv('/content/drive/My Drive/CourseraProject/data/X_test.csv')"
   ]
  },
  {
   "cell_type": "code",
   "execution_count": null,
   "metadata": {
    "colab": {
     "base_uri": "https://localhost:8080/",
     "height": 143
    },
    "colab_type": "code",
    "id": "_WJh2aUi3AhU",
    "outputId": "c37e7ee7-f2c3-44f8-a8ca-0b422da11bc3"
   },
   "outputs": [
    {
     "data": {
      "text/html": [
       "<div>\n",
       "<style scoped>\n",
       "    .dataframe tbody tr th:only-of-type {\n",
       "        vertical-align: middle;\n",
       "    }\n",
       "\n",
       "    .dataframe tbody tr th {\n",
       "        vertical-align: top;\n",
       "    }\n",
       "\n",
       "    .dataframe thead th {\n",
       "        text-align: right;\n",
       "    }\n",
       "</style>\n",
       "<table border=\"1\" class=\"dataframe\">\n",
       "  <thead>\n",
       "    <tr style=\"text-align: right;\">\n",
       "      <th></th>\n",
       "      <th>ID</th>\n",
       "      <th>shop_id</th>\n",
       "      <th>item_id</th>\n",
       "    </tr>\n",
       "  </thead>\n",
       "  <tbody>\n",
       "    <tr>\n",
       "      <th>0</th>\n",
       "      <td>0</td>\n",
       "      <td>5</td>\n",
       "      <td>5037</td>\n",
       "    </tr>\n",
       "    <tr>\n",
       "      <th>1</th>\n",
       "      <td>1</td>\n",
       "      <td>5</td>\n",
       "      <td>5320</td>\n",
       "    </tr>\n",
       "    <tr>\n",
       "      <th>2</th>\n",
       "      <td>2</td>\n",
       "      <td>5</td>\n",
       "      <td>5233</td>\n",
       "    </tr>\n",
       "  </tbody>\n",
       "</table>\n",
       "</div>"
      ],
      "text/plain": [
       "   ID  shop_id  item_id\n",
       "0   0        5     5037\n",
       "1   1        5     5320\n",
       "2   2        5     5233"
      ]
     },
     "execution_count": 6,
     "metadata": {
      "tags": []
     },
     "output_type": "execute_result"
    }
   ],
   "source": [
    "test.head(3)"
   ]
  },
  {
   "cell_type": "code",
   "execution_count": null,
   "metadata": {
    "colab": {
     "base_uri": "https://localhost:8080/",
     "height": 163
    },
    "colab_type": "code",
    "id": "ICfxLVO03IxN",
    "outputId": "b28c812b-4d92-4ac7-d160-3fbd8b564910"
   },
   "outputs": [
    {
     "data": {
      "text/html": [
       "<div>\n",
       "<style scoped>\n",
       "    .dataframe tbody tr th:only-of-type {\n",
       "        vertical-align: middle;\n",
       "    }\n",
       "\n",
       "    .dataframe tbody tr th {\n",
       "        vertical-align: top;\n",
       "    }\n",
       "\n",
       "    .dataframe thead th {\n",
       "        text-align: right;\n",
       "    }\n",
       "</style>\n",
       "<table border=\"1\" class=\"dataframe\">\n",
       "  <thead>\n",
       "    <tr style=\"text-align: right;\">\n",
       "      <th></th>\n",
       "      <th>shop_id</th>\n",
       "      <th>item_id</th>\n",
       "      <th>date_block_num</th>\n",
       "      <th>item_cnt_day</th>\n",
       "      <th>item_category_id</th>\n",
       "      <th>item_id_avg_item_price_lag_1</th>\n",
       "      <th>item_id_sum_item_cnt_day_lag_1</th>\n",
       "      <th>item_id_avg_item_cnt_day_lag_1</th>\n",
       "      <th>shop_id_avg_item_price_lag_1</th>\n",
       "      <th>shop_id_sum_item_cnt_day_lag_1</th>\n",
       "      <th>shop_id_avg_item_cnt_day_lag_1</th>\n",
       "      <th>item_category_id_avg_item_price_lag_1</th>\n",
       "      <th>item_category_id_sum_item_cnt_day_lag_1</th>\n",
       "      <th>item_category_id_avg_item_cnt_day_lag_1</th>\n",
       "      <th>item_cnt_day_lag_1</th>\n",
       "    </tr>\n",
       "  </thead>\n",
       "  <tbody>\n",
       "    <tr>\n",
       "      <th>0</th>\n",
       "      <td>27</td>\n",
       "      <td>15242</td>\n",
       "      <td>13</td>\n",
       "      <td>2.0</td>\n",
       "      <td>63</td>\n",
       "      <td>131.152174</td>\n",
       "      <td>9.0</td>\n",
       "      <td>0.195652</td>\n",
       "      <td>183.18482</td>\n",
       "      <td>5451.0</td>\n",
       "      <td>0.721891</td>\n",
       "      <td>108.913511</td>\n",
       "      <td>1295.0</td>\n",
       "      <td>0.230756</td>\n",
       "      <td>1.0</td>\n",
       "    </tr>\n",
       "    <tr>\n",
       "      <th>1</th>\n",
       "      <td>27</td>\n",
       "      <td>15200</td>\n",
       "      <td>13</td>\n",
       "      <td>1.0</td>\n",
       "      <td>69</td>\n",
       "      <td>10.847826</td>\n",
       "      <td>1.0</td>\n",
       "      <td>0.021739</td>\n",
       "      <td>183.18482</td>\n",
       "      <td>5451.0</td>\n",
       "      <td>0.721891</td>\n",
       "      <td>53.044176</td>\n",
       "      <td>1036.0</td>\n",
       "      <td>0.341238</td>\n",
       "      <td>0.0</td>\n",
       "    </tr>\n",
       "    <tr>\n",
       "      <th>2</th>\n",
       "      <td>27</td>\n",
       "      <td>15279</td>\n",
       "      <td>13</td>\n",
       "      <td>2.0</td>\n",
       "      <td>63</td>\n",
       "      <td>399.210507</td>\n",
       "      <td>48.0</td>\n",
       "      <td>1.043478</td>\n",
       "      <td>183.18482</td>\n",
       "      <td>5451.0</td>\n",
       "      <td>0.721891</td>\n",
       "      <td>108.913511</td>\n",
       "      <td>1295.0</td>\n",
       "      <td>0.230756</td>\n",
       "      <td>2.0</td>\n",
       "    </tr>\n",
       "  </tbody>\n",
       "</table>\n",
       "</div>"
      ],
      "text/plain": [
       "   shop_id  ...  item_cnt_day_lag_1\n",
       "0       27  ...                 1.0\n",
       "1       27  ...                 0.0\n",
       "2       27  ...                 2.0\n",
       "\n",
       "[3 rows x 15 columns]"
      ]
     },
     "execution_count": 7,
     "metadata": {
      "tags": []
     },
     "output_type": "execute_result"
    }
   ],
   "source": [
    "X_train.head(3)"
   ]
  },
  {
   "cell_type": "code",
   "execution_count": null,
   "metadata": {
    "colab": {
     "base_uri": "https://localhost:8080/",
     "height": 163
    },
    "colab_type": "code",
    "id": "XXpy5leH3MEt",
    "outputId": "cd44f2cb-aaf1-43a9-cc09-b65a6db3d0e9"
   },
   "outputs": [
    {
     "data": {
      "text/html": [
       "<div>\n",
       "<style scoped>\n",
       "    .dataframe tbody tr th:only-of-type {\n",
       "        vertical-align: middle;\n",
       "    }\n",
       "\n",
       "    .dataframe tbody tr th {\n",
       "        vertical-align: top;\n",
       "    }\n",
       "\n",
       "    .dataframe thead th {\n",
       "        text-align: right;\n",
       "    }\n",
       "</style>\n",
       "<table border=\"1\" class=\"dataframe\">\n",
       "  <thead>\n",
       "    <tr style=\"text-align: right;\">\n",
       "      <th></th>\n",
       "      <th>shop_id</th>\n",
       "      <th>item_id</th>\n",
       "      <th>date_block_num</th>\n",
       "      <th>item_cnt_day</th>\n",
       "      <th>item_category_id</th>\n",
       "      <th>item_id_avg_item_price_lag_1</th>\n",
       "      <th>item_id_sum_item_cnt_day_lag_1</th>\n",
       "      <th>item_id_avg_item_cnt_day_lag_1</th>\n",
       "      <th>shop_id_avg_item_price_lag_1</th>\n",
       "      <th>shop_id_sum_item_cnt_day_lag_1</th>\n",
       "      <th>shop_id_avg_item_cnt_day_lag_1</th>\n",
       "      <th>item_category_id_avg_item_price_lag_1</th>\n",
       "      <th>item_category_id_sum_item_cnt_day_lag_1</th>\n",
       "      <th>item_category_id_avg_item_cnt_day_lag_1</th>\n",
       "      <th>item_cnt_day_lag_1</th>\n",
       "    </tr>\n",
       "  </thead>\n",
       "  <tbody>\n",
       "    <tr>\n",
       "      <th>0</th>\n",
       "      <td>45</td>\n",
       "      <td>13315</td>\n",
       "      <td>33</td>\n",
       "      <td>1.0</td>\n",
       "      <td>47</td>\n",
       "      <td>15.093023</td>\n",
       "      <td>1.0</td>\n",
       "      <td>0.023256</td>\n",
       "      <td>100.784209</td>\n",
       "      <td>654.0</td>\n",
       "      <td>0.128614</td>\n",
       "      <td>79.174313</td>\n",
       "      <td>1287.0</td>\n",
       "      <td>0.285050</td>\n",
       "      <td>0.0</td>\n",
       "    </tr>\n",
       "    <tr>\n",
       "      <th>1</th>\n",
       "      <td>45</td>\n",
       "      <td>13880</td>\n",
       "      <td>33</td>\n",
       "      <td>1.0</td>\n",
       "      <td>55</td>\n",
       "      <td>120.000000</td>\n",
       "      <td>57.0</td>\n",
       "      <td>1.325581</td>\n",
       "      <td>100.784209</td>\n",
       "      <td>654.0</td>\n",
       "      <td>0.128614</td>\n",
       "      <td>44.944089</td>\n",
       "      <td>4913.0</td>\n",
       "      <td>0.177416</td>\n",
       "      <td>0.0</td>\n",
       "    </tr>\n",
       "    <tr>\n",
       "      <th>2</th>\n",
       "      <td>45</td>\n",
       "      <td>13881</td>\n",
       "      <td>33</td>\n",
       "      <td>2.0</td>\n",
       "      <td>55</td>\n",
       "      <td>313.388605</td>\n",
       "      <td>34.0</td>\n",
       "      <td>0.790698</td>\n",
       "      <td>100.784209</td>\n",
       "      <td>654.0</td>\n",
       "      <td>0.128614</td>\n",
       "      <td>44.944089</td>\n",
       "      <td>4913.0</td>\n",
       "      <td>0.177416</td>\n",
       "      <td>1.0</td>\n",
       "    </tr>\n",
       "  </tbody>\n",
       "</table>\n",
       "</div>"
      ],
      "text/plain": [
       "   shop_id  ...  item_cnt_day_lag_1\n",
       "0       45  ...                 0.0\n",
       "1       45  ...                 0.0\n",
       "2       45  ...                 1.0\n",
       "\n",
       "[3 rows x 15 columns]"
      ]
     },
     "execution_count": 8,
     "metadata": {
      "tags": []
     },
     "output_type": "execute_result"
    }
   ],
   "source": [
    "X_cv.head(3)"
   ]
  },
  {
   "cell_type": "code",
   "execution_count": null,
   "metadata": {
    "colab": {
     "base_uri": "https://localhost:8080/",
     "height": 226
    },
    "colab_type": "code",
    "id": "24dz9HKk3UD2",
    "outputId": "1e207b4d-3388-4f96-e03c-e7196bb44ebe"
   },
   "outputs": [
    {
     "data": {
      "text/html": [
       "<div>\n",
       "<style scoped>\n",
       "    .dataframe tbody tr th:only-of-type {\n",
       "        vertical-align: middle;\n",
       "    }\n",
       "\n",
       "    .dataframe tbody tr th {\n",
       "        vertical-align: top;\n",
       "    }\n",
       "\n",
       "    .dataframe thead th {\n",
       "        text-align: right;\n",
       "    }\n",
       "</style>\n",
       "<table border=\"1\" class=\"dataframe\">\n",
       "  <thead>\n",
       "    <tr style=\"text-align: right;\">\n",
       "      <th></th>\n",
       "      <th>shop_id</th>\n",
       "      <th>item_id</th>\n",
       "      <th>date_block_num</th>\n",
       "      <th>item_cnt_day</th>\n",
       "      <th>item_category_id</th>\n",
       "      <th>item_id_avg_item_price_lag_1</th>\n",
       "      <th>item_id_sum_item_cnt_day_lag_1</th>\n",
       "      <th>item_id_avg_item_cnt_day_lag_1</th>\n",
       "      <th>shop_id_avg_item_price_lag_1</th>\n",
       "      <th>shop_id_sum_item_cnt_day_lag_1</th>\n",
       "      <th>shop_id_avg_item_cnt_day_lag_1</th>\n",
       "      <th>item_category_id_avg_item_price_lag_1</th>\n",
       "      <th>item_category_id_sum_item_cnt_day_lag_1</th>\n",
       "      <th>item_category_id_avg_item_cnt_day_lag_1</th>\n",
       "      <th>item_cnt_day_lag_1</th>\n",
       "    </tr>\n",
       "  </thead>\n",
       "  <tbody>\n",
       "    <tr>\n",
       "      <th>0</th>\n",
       "      <td>5</td>\n",
       "      <td>5037</td>\n",
       "      <td>34</td>\n",
       "      <td>0.0</td>\n",
       "      <td>19</td>\n",
       "      <td>579.159091</td>\n",
       "      <td>25.0</td>\n",
       "      <td>0.568182</td>\n",
       "      <td>111.209795</td>\n",
       "      <td>1052.0</td>\n",
       "      <td>0.194347</td>\n",
       "      <td>355.122549</td>\n",
       "      <td>2443.0</td>\n",
       "      <td>0.380293</td>\n",
       "      <td>0.0</td>\n",
       "    </tr>\n",
       "    <tr>\n",
       "      <th>1</th>\n",
       "      <td>5</td>\n",
       "      <td>5320</td>\n",
       "      <td>34</td>\n",
       "      <td>0.0</td>\n",
       "      <td>55</td>\n",
       "      <td>34.813953</td>\n",
       "      <td>0.0</td>\n",
       "      <td>0.000000</td>\n",
       "      <td>102.626336</td>\n",
       "      <td>0.0</td>\n",
       "      <td>0.000000</td>\n",
       "      <td>45.692776</td>\n",
       "      <td>0.0</td>\n",
       "      <td>0.000000</td>\n",
       "      <td>0.0</td>\n",
       "    </tr>\n",
       "    <tr>\n",
       "      <th>2</th>\n",
       "      <td>5</td>\n",
       "      <td>5233</td>\n",
       "      <td>34</td>\n",
       "      <td>0.0</td>\n",
       "      <td>19</td>\n",
       "      <td>735.750000</td>\n",
       "      <td>42.0</td>\n",
       "      <td>0.954545</td>\n",
       "      <td>111.209795</td>\n",
       "      <td>1052.0</td>\n",
       "      <td>0.194347</td>\n",
       "      <td>355.122549</td>\n",
       "      <td>2443.0</td>\n",
       "      <td>0.380293</td>\n",
       "      <td>1.0</td>\n",
       "    </tr>\n",
       "    <tr>\n",
       "      <th>3</th>\n",
       "      <td>5</td>\n",
       "      <td>5232</td>\n",
       "      <td>34</td>\n",
       "      <td>0.0</td>\n",
       "      <td>23</td>\n",
       "      <td>511.909091</td>\n",
       "      <td>28.0</td>\n",
       "      <td>0.636364</td>\n",
       "      <td>111.209795</td>\n",
       "      <td>1052.0</td>\n",
       "      <td>0.194347</td>\n",
       "      <td>337.771637</td>\n",
       "      <td>2203.0</td>\n",
       "      <td>0.340600</td>\n",
       "      <td>0.0</td>\n",
       "    </tr>\n",
       "    <tr>\n",
       "      <th>4</th>\n",
       "      <td>5</td>\n",
       "      <td>5268</td>\n",
       "      <td>34</td>\n",
       "      <td>0.0</td>\n",
       "      <td>20</td>\n",
       "      <td>34.813953</td>\n",
       "      <td>0.0</td>\n",
       "      <td>0.000000</td>\n",
       "      <td>102.626336</td>\n",
       "      <td>0.0</td>\n",
       "      <td>0.000000</td>\n",
       "      <td>45.692776</td>\n",
       "      <td>0.0</td>\n",
       "      <td>0.000000</td>\n",
       "      <td>0.0</td>\n",
       "    </tr>\n",
       "  </tbody>\n",
       "</table>\n",
       "</div>"
      ],
      "text/plain": [
       "   shop_id  ...  item_cnt_day_lag_1\n",
       "0        5  ...                 0.0\n",
       "1        5  ...                 0.0\n",
       "2        5  ...                 1.0\n",
       "3        5  ...                 0.0\n",
       "4        5  ...                 0.0\n",
       "\n",
       "[5 rows x 15 columns]"
      ]
     },
     "execution_count": 9,
     "metadata": {
      "tags": []
     },
     "output_type": "execute_result"
    }
   ],
   "source": [
    "X_test.head()"
   ]
  },
  {
   "cell_type": "code",
   "execution_count": 4,
   "metadata": {
    "colab": {
     "base_uri": "https://localhost:8080/",
     "height": 35
    },
    "colab_type": "code",
    "id": "3kGHJqva3b3F",
    "outputId": "bf91e8fe-52a1-4aa7-9b9b-d2a3e1f9dfe9"
   },
   "outputs": [
    {
     "data": {
      "text/plain": [
       "(214200, 25)"
      ]
     },
     "execution_count": 4,
     "metadata": {
      "tags": []
     },
     "output_type": "execute_result"
    }
   ],
   "source": [
    "X_test.shape"
   ]
  },
  {
   "cell_type": "code",
   "execution_count": null,
   "metadata": {
    "colab": {
     "base_uri": "https://localhost:8080/",
     "height": 72
    },
    "colab_type": "code",
    "id": "qBsM5iF83p4e",
    "outputId": "3510d141-392d-4e2b-85b6-f4a86c078858"
   },
   "outputs": [
    {
     "name": "stdout",
     "output_type": "stream",
     "text": [
      "Requirement already satisfied: xgboost in /usr/local/lib/python3.6/dist-packages (0.90)\n",
      "Requirement already satisfied: scipy in /usr/local/lib/python3.6/dist-packages (from xgboost) (1.4.1)\n",
      "Requirement already satisfied: numpy in /usr/local/lib/python3.6/dist-packages (from xgboost) (1.18.4)\n"
     ]
    }
   ],
   "source": [
    "# Let's install the xgboost\n",
    "!pip install xgboost"
   ]
  },
  {
   "cell_type": "markdown",
   "metadata": {},
   "source": [
    "# Hyperparameter Tuning\n",
    "\n",
    "Due to unavailibility of the computational resources, this part is skipped."
   ]
  },
  {
   "cell_type": "code",
   "execution_count": 5,
   "metadata": {
    "colab": {
     "base_uri": "https://localhost:8080/",
     "height": 1000
    },
    "colab_type": "code",
    "id": "UMHcDYak4Nve",
    "outputId": "f27294eb-b6a7-49ad-e566-ca570d42f36f"
   },
   "outputs": [
    {
     "name": "stdout",
     "output_type": "stream",
     "text": [
      "[06:31:10] WARNING: /workspace/src/objective/regression_obj.cu:152: reg:linear is now deprecated in favor of reg:squarederror.\n",
      "[0]\tvalidation_0-rmse:1.40006\tvalidation_1-rmse:1.37801\n",
      "Multiple eval metrics have been passed: 'validation_1-rmse' will be used for early stopping.\n",
      "\n",
      "Will train until validation_1-rmse hasn't improved in 50 rounds.\n",
      "[1]\tvalidation_0-rmse:1.35142\tvalidation_1-rmse:1.3428\n",
      "[2]\tvalidation_0-rmse:1.3069\tvalidation_1-rmse:1.30836\n",
      "[3]\tvalidation_0-rmse:1.27657\tvalidation_1-rmse:1.28801\n",
      "[4]\tvalidation_0-rmse:1.24457\tvalidation_1-rmse:1.26443\n",
      "[5]\tvalidation_0-rmse:1.22012\tvalidation_1-rmse:1.24648\n",
      "[6]\tvalidation_0-rmse:1.19558\tvalidation_1-rmse:1.22738\n",
      "[7]\tvalidation_0-rmse:1.18014\tvalidation_1-rmse:1.21655\n",
      "[8]\tvalidation_0-rmse:1.15947\tvalidation_1-rmse:1.20044\n",
      "[9]\tvalidation_0-rmse:1.14457\tvalidation_1-rmse:1.18931\n",
      "[10]\tvalidation_0-rmse:1.133\tvalidation_1-rmse:1.18418\n",
      "[11]\tvalidation_0-rmse:1.12048\tvalidation_1-rmse:1.17683\n",
      "[12]\tvalidation_0-rmse:1.11378\tvalidation_1-rmse:1.17386\n",
      "[13]\tvalidation_0-rmse:1.10629\tvalidation_1-rmse:1.16932\n",
      "[14]\tvalidation_0-rmse:1.09852\tvalidation_1-rmse:1.16415\n",
      "[15]\tvalidation_0-rmse:1.09448\tvalidation_1-rmse:1.16271\n",
      "[16]\tvalidation_0-rmse:1.08866\tvalidation_1-rmse:1.15949\n",
      "[17]\tvalidation_0-rmse:1.08037\tvalidation_1-rmse:1.15467\n",
      "[18]\tvalidation_0-rmse:1.07585\tvalidation_1-rmse:1.1522\n",
      "[19]\tvalidation_0-rmse:1.07223\tvalidation_1-rmse:1.15094\n",
      "[20]\tvalidation_0-rmse:1.06631\tvalidation_1-rmse:1.14889\n",
      "[21]\tvalidation_0-rmse:1.06145\tvalidation_1-rmse:1.14759\n",
      "[22]\tvalidation_0-rmse:1.05681\tvalidation_1-rmse:1.14766\n",
      "[23]\tvalidation_0-rmse:1.05326\tvalidation_1-rmse:1.14809\n",
      "[24]\tvalidation_0-rmse:1.04986\tvalidation_1-rmse:1.14561\n",
      "[25]\tvalidation_0-rmse:1.04693\tvalidation_1-rmse:1.1441\n",
      "[26]\tvalidation_0-rmse:1.04458\tvalidation_1-rmse:1.14306\n",
      "[27]\tvalidation_0-rmse:1.04308\tvalidation_1-rmse:1.14301\n",
      "[28]\tvalidation_0-rmse:1.04069\tvalidation_1-rmse:1.14393\n",
      "[29]\tvalidation_0-rmse:1.03936\tvalidation_1-rmse:1.14362\n",
      "[30]\tvalidation_0-rmse:1.03786\tvalidation_1-rmse:1.14414\n",
      "[31]\tvalidation_0-rmse:1.0362\tvalidation_1-rmse:1.14363\n",
      "[32]\tvalidation_0-rmse:1.0351\tvalidation_1-rmse:1.14355\n",
      "[33]\tvalidation_0-rmse:1.03428\tvalidation_1-rmse:1.14348\n",
      "[34]\tvalidation_0-rmse:1.03246\tvalidation_1-rmse:1.14332\n",
      "[35]\tvalidation_0-rmse:1.03168\tvalidation_1-rmse:1.14332\n",
      "[36]\tvalidation_0-rmse:1.03069\tvalidation_1-rmse:1.1433\n",
      "[37]\tvalidation_0-rmse:1.02953\tvalidation_1-rmse:1.14345\n",
      "[38]\tvalidation_0-rmse:1.02904\tvalidation_1-rmse:1.14365\n",
      "[39]\tvalidation_0-rmse:1.02783\tvalidation_1-rmse:1.14376\n",
      "[40]\tvalidation_0-rmse:1.02689\tvalidation_1-rmse:1.14471\n",
      "[41]\tvalidation_0-rmse:1.02638\tvalidation_1-rmse:1.14465\n",
      "[42]\tvalidation_0-rmse:1.02583\tvalidation_1-rmse:1.14467\n",
      "[43]\tvalidation_0-rmse:1.02549\tvalidation_1-rmse:1.14466\n",
      "[44]\tvalidation_0-rmse:1.02436\tvalidation_1-rmse:1.14503\n",
      "[45]\tvalidation_0-rmse:1.02407\tvalidation_1-rmse:1.14506\n",
      "[46]\tvalidation_0-rmse:1.02344\tvalidation_1-rmse:1.1452\n",
      "[47]\tvalidation_0-rmse:1.02294\tvalidation_1-rmse:1.14525\n",
      "[48]\tvalidation_0-rmse:1.02255\tvalidation_1-rmse:1.14509\n",
      "[49]\tvalidation_0-rmse:1.02183\tvalidation_1-rmse:1.14563\n",
      "[50]\tvalidation_0-rmse:1.02163\tvalidation_1-rmse:1.14558\n",
      "[51]\tvalidation_0-rmse:1.02118\tvalidation_1-rmse:1.1457\n",
      "[52]\tvalidation_0-rmse:1.02072\tvalidation_1-rmse:1.14586\n",
      "[53]\tvalidation_0-rmse:1.0206\tvalidation_1-rmse:1.14598\n",
      "[54]\tvalidation_0-rmse:1.02009\tvalidation_1-rmse:1.14605\n",
      "[55]\tvalidation_0-rmse:1.01966\tvalidation_1-rmse:1.14589\n",
      "[56]\tvalidation_0-rmse:1.01919\tvalidation_1-rmse:1.1457\n",
      "[57]\tvalidation_0-rmse:1.01834\tvalidation_1-rmse:1.1456\n",
      "[58]\tvalidation_0-rmse:1.01806\tvalidation_1-rmse:1.14558\n",
      "[59]\tvalidation_0-rmse:1.01781\tvalidation_1-rmse:1.14531\n",
      "[60]\tvalidation_0-rmse:1.01768\tvalidation_1-rmse:1.14519\n",
      "[61]\tvalidation_0-rmse:1.01759\tvalidation_1-rmse:1.14517\n",
      "[62]\tvalidation_0-rmse:1.01743\tvalidation_1-rmse:1.14533\n",
      "[63]\tvalidation_0-rmse:1.0171\tvalidation_1-rmse:1.14545\n",
      "[64]\tvalidation_0-rmse:1.0166\tvalidation_1-rmse:1.14539\n",
      "[65]\tvalidation_0-rmse:1.01651\tvalidation_1-rmse:1.14542\n",
      "[66]\tvalidation_0-rmse:1.01642\tvalidation_1-rmse:1.14538\n",
      "[67]\tvalidation_0-rmse:1.01617\tvalidation_1-rmse:1.14543\n",
      "[68]\tvalidation_0-rmse:1.01601\tvalidation_1-rmse:1.1455\n",
      "[69]\tvalidation_0-rmse:1.01513\tvalidation_1-rmse:1.14555\n",
      "[70]\tvalidation_0-rmse:1.01505\tvalidation_1-rmse:1.14552\n",
      "[71]\tvalidation_0-rmse:1.01497\tvalidation_1-rmse:1.14548\n",
      "[72]\tvalidation_0-rmse:1.01474\tvalidation_1-rmse:1.14548\n",
      "[73]\tvalidation_0-rmse:1.01463\tvalidation_1-rmse:1.14556\n",
      "[74]\tvalidation_0-rmse:1.01411\tvalidation_1-rmse:1.14521\n",
      "[75]\tvalidation_0-rmse:1.01406\tvalidation_1-rmse:1.14514\n",
      "[76]\tvalidation_0-rmse:1.01388\tvalidation_1-rmse:1.14515\n",
      "[77]\tvalidation_0-rmse:1.01298\tvalidation_1-rmse:1.14466\n",
      "Stopping. Best iteration:\n",
      "[27]\tvalidation_0-rmse:1.04308\tvalidation_1-rmse:1.14301\n",
      "\n"
     ]
    },
    {
     "data": {
      "text/plain": [
       "XGBRegressor(base_score=0.5, booster='gbtree', colsample_bylevel=1,\n",
       "             colsample_bynode=1, colsample_bytree=0.5, eta=0.01, gamma=2,\n",
       "             gpu_id=0, importance_type='gain', learning_rate=0.1, max_bin=2048,\n",
       "             max_delta_step=0, max_depth=10, min_child_weight=300, missing=None,\n",
       "             n_estimators=1000, n_jobs=-1, nthread=None, objective='reg:linear',\n",
       "             random_state=0, reg_alpha=0, reg_lambda=2, scale_pos_weight=1,\n",
       "             seed=None, silent=None, subsample=0.8, tree_method='gpu_hist',\n",
       "             verbosity=1)"
      ]
     },
     "execution_count": 5,
     "metadata": {
      "tags": []
     },
     "output_type": "execute_result"
    }
   ],
   "source": [
    "cols = [c for c in X_train.columns if c not in ['date_block_num', 'item_cnt_day',]]\n",
    "\n",
    "x1 = X_train[cols]\n",
    "y1 = X_train['item_cnt_day']\n",
    "x2 = X_cv[cols]\n",
    "y2 = X_cv['item_cnt_day']\n",
    "\n",
    "# Taking tuning parameters from Kaggle notebook\n",
    "model = xgb.XGBRegressor(eta=0.01, max_depth=10,n_estimators=1000,\n",
    "                             colsample_bytree=0.5,subsample=0.8,\n",
    "                             gamma=2, reg_alpha=0, reg_lambda=2, min_child_weight=300,\n",
    "                             tree_method='gpu_hist', gpu_id=0, max_bin=2048,\n",
    "                             n_jobs=-1)\n",
    "model.fit(x1,y1,eval_set=[(x1,y1),(x2,y2)],eval_metric='rmse',early_stopping_rounds=50)"
   ]
  },
  {
   "cell_type": "code",
   "execution_count": 7,
   "metadata": {
    "colab": {
     "base_uri": "https://localhost:8080/",
     "height": 35
    },
    "colab_type": "code",
    "id": "Chx3h2Om4Sd2",
    "outputId": "c939f84b-be7b-4a18-bcbf-73041c017541"
   },
   "outputs": [
    {
     "name": "stdout",
     "output_type": "stream",
     "text": [
      "[06:31:57] WARNING: /workspace/src/objective/regression_obj.cu:152: reg:linear is now deprecated in favor of reg:squarederror.\n"
     ]
    }
   ],
   "source": [
    "pickle.dump(model, open(\"drive/My Drive/CourseraProject/data/xgb.pickle.dat\", \"wb\"))\n",
    "model = pickle.load(open(\"drive/My Drive/CourseraProject/data/xgb.pickle.dat\", \"rb\"))\n",
    "\n",
    "pred = model.predict(X_test[cols], ntree_limit=model.best_ntree_limit)\n",
    "\n",
    "test['item_cnt_month'] = pred.clip(0,20)\n",
    "test.drop(['shop_id', 'item_id'], axis=1, inplace=True)\n",
    "test.to_csv('drive/My Drive/CourseraProject/data/submission.csv', index=False)"
   ]
  },
  {
   "cell_type": "code",
   "execution_count": null,
   "metadata": {
    "colab": {},
    "colab_type": "code",
    "id": "G-9Xdiko6P3a"
   },
   "outputs": [],
   "source": []
  }
 ],
 "metadata": {
  "accelerator": "GPU",
  "colab": {
   "collapsed_sections": [],
   "name": "CourseraProject-part2.ipynb",
   "provenance": []
  },
  "kernelspec": {
   "display_name": "Python 3",
   "language": "python",
   "name": "python3"
  },
  "language_info": {
   "codemirror_mode": {
    "name": "ipython",
    "version": 3
   },
   "file_extension": ".py",
   "mimetype": "text/x-python",
   "name": "python",
   "nbconvert_exporter": "python",
   "pygments_lexer": "ipython3",
   "version": "3.7.0"
  }
 },
 "nbformat": 4,
 "nbformat_minor": 2
}
